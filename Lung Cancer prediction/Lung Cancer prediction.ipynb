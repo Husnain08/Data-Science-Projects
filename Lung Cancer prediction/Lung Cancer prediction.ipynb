{
 "cells": [
  {
   "cell_type": "code",
   "execution_count": 1,
   "metadata": {},
   "outputs": [],
   "source": [
    "import pandas as pd\n"
   ]
  },
  {
   "cell_type": "code",
   "execution_count": 2,
   "metadata": {},
   "outputs": [],
   "source": [
    "cancer=pd.read_csv(\"lung cancer.csv\")"
   ]
  },
  {
   "cell_type": "code",
   "execution_count": 3,
   "metadata": {},
   "outputs": [
    {
     "data": {
      "text/html": [
       "<div>\n",
       "<style scoped>\n",
       "    .dataframe tbody tr th:only-of-type {\n",
       "        vertical-align: middle;\n",
       "    }\n",
       "\n",
       "    .dataframe tbody tr th {\n",
       "        vertical-align: top;\n",
       "    }\n",
       "\n",
       "    .dataframe thead th {\n",
       "        text-align: right;\n",
       "    }\n",
       "</style>\n",
       "<table border=\"1\" class=\"dataframe\">\n",
       "  <thead>\n",
       "    <tr style=\"text-align: right;\">\n",
       "      <th></th>\n",
       "      <th>Smoking</th>\n",
       "      <th>Yellow_Fingers</th>\n",
       "      <th>Anxiety</th>\n",
       "      <th>Peer_Pressure</th>\n",
       "      <th>Genetics</th>\n",
       "      <th>Attention_Disorder</th>\n",
       "      <th>Born_an_Even_Day</th>\n",
       "      <th>Car_Accident</th>\n",
       "      <th>Fatigue</th>\n",
       "      <th>Allergy</th>\n",
       "      <th>Coughing</th>\n",
       "      <th>Lung_cancer</th>\n",
       "    </tr>\n",
       "  </thead>\n",
       "  <tbody>\n",
       "    <tr>\n",
       "      <th>count</th>\n",
       "      <td>2000.000000</td>\n",
       "      <td>2000.000000</td>\n",
       "      <td>2000.00000</td>\n",
       "      <td>2000.000000</td>\n",
       "      <td>2000.000000</td>\n",
       "      <td>2000.00000</td>\n",
       "      <td>2000.000000</td>\n",
       "      <td>2000.000000</td>\n",
       "      <td>2000.000000</td>\n",
       "      <td>2000.00000</td>\n",
       "      <td>2000.000000</td>\n",
       "      <td>2000.000000</td>\n",
       "    </tr>\n",
       "    <tr>\n",
       "      <th>mean</th>\n",
       "      <td>0.752500</td>\n",
       "      <td>0.782000</td>\n",
       "      <td>0.63050</td>\n",
       "      <td>0.341500</td>\n",
       "      <td>0.139500</td>\n",
       "      <td>0.32250</td>\n",
       "      <td>0.489500</td>\n",
       "      <td>0.723000</td>\n",
       "      <td>0.737000</td>\n",
       "      <td>0.34300</td>\n",
       "      <td>0.700500</td>\n",
       "      <td>0.721500</td>\n",
       "    </tr>\n",
       "    <tr>\n",
       "      <th>std</th>\n",
       "      <td>0.431668</td>\n",
       "      <td>0.412991</td>\n",
       "      <td>0.48279</td>\n",
       "      <td>0.474331</td>\n",
       "      <td>0.346554</td>\n",
       "      <td>0.46755</td>\n",
       "      <td>0.500015</td>\n",
       "      <td>0.447628</td>\n",
       "      <td>0.440373</td>\n",
       "      <td>0.47483</td>\n",
       "      <td>0.458154</td>\n",
       "      <td>0.448373</td>\n",
       "    </tr>\n",
       "    <tr>\n",
       "      <th>min</th>\n",
       "      <td>0.000000</td>\n",
       "      <td>0.000000</td>\n",
       "      <td>0.00000</td>\n",
       "      <td>0.000000</td>\n",
       "      <td>0.000000</td>\n",
       "      <td>0.00000</td>\n",
       "      <td>0.000000</td>\n",
       "      <td>0.000000</td>\n",
       "      <td>0.000000</td>\n",
       "      <td>0.00000</td>\n",
       "      <td>0.000000</td>\n",
       "      <td>0.000000</td>\n",
       "    </tr>\n",
       "    <tr>\n",
       "      <th>25%</th>\n",
       "      <td>1.000000</td>\n",
       "      <td>1.000000</td>\n",
       "      <td>0.00000</td>\n",
       "      <td>0.000000</td>\n",
       "      <td>0.000000</td>\n",
       "      <td>0.00000</td>\n",
       "      <td>0.000000</td>\n",
       "      <td>0.000000</td>\n",
       "      <td>0.000000</td>\n",
       "      <td>0.00000</td>\n",
       "      <td>0.000000</td>\n",
       "      <td>0.000000</td>\n",
       "    </tr>\n",
       "    <tr>\n",
       "      <th>50%</th>\n",
       "      <td>1.000000</td>\n",
       "      <td>1.000000</td>\n",
       "      <td>1.00000</td>\n",
       "      <td>0.000000</td>\n",
       "      <td>0.000000</td>\n",
       "      <td>0.00000</td>\n",
       "      <td>0.000000</td>\n",
       "      <td>1.000000</td>\n",
       "      <td>1.000000</td>\n",
       "      <td>0.00000</td>\n",
       "      <td>1.000000</td>\n",
       "      <td>1.000000</td>\n",
       "    </tr>\n",
       "    <tr>\n",
       "      <th>75%</th>\n",
       "      <td>1.000000</td>\n",
       "      <td>1.000000</td>\n",
       "      <td>1.00000</td>\n",
       "      <td>1.000000</td>\n",
       "      <td>0.000000</td>\n",
       "      <td>1.00000</td>\n",
       "      <td>1.000000</td>\n",
       "      <td>1.000000</td>\n",
       "      <td>1.000000</td>\n",
       "      <td>1.00000</td>\n",
       "      <td>1.000000</td>\n",
       "      <td>1.000000</td>\n",
       "    </tr>\n",
       "    <tr>\n",
       "      <th>max</th>\n",
       "      <td>1.000000</td>\n",
       "      <td>1.000000</td>\n",
       "      <td>1.00000</td>\n",
       "      <td>1.000000</td>\n",
       "      <td>1.000000</td>\n",
       "      <td>1.00000</td>\n",
       "      <td>1.000000</td>\n",
       "      <td>1.000000</td>\n",
       "      <td>1.000000</td>\n",
       "      <td>1.00000</td>\n",
       "      <td>1.000000</td>\n",
       "      <td>1.000000</td>\n",
       "    </tr>\n",
       "  </tbody>\n",
       "</table>\n",
       "</div>"
      ],
      "text/plain": [
       "           Smoking  Yellow_Fingers     Anxiety  Peer_Pressure     Genetics  \\\n",
       "count  2000.000000     2000.000000  2000.00000    2000.000000  2000.000000   \n",
       "mean      0.752500        0.782000     0.63050       0.341500     0.139500   \n",
       "std       0.431668        0.412991     0.48279       0.474331     0.346554   \n",
       "min       0.000000        0.000000     0.00000       0.000000     0.000000   \n",
       "25%       1.000000        1.000000     0.00000       0.000000     0.000000   \n",
       "50%       1.000000        1.000000     1.00000       0.000000     0.000000   \n",
       "75%       1.000000        1.000000     1.00000       1.000000     0.000000   \n",
       "max       1.000000        1.000000     1.00000       1.000000     1.000000   \n",
       "\n",
       "       Attention_Disorder  Born_an_Even_Day  Car_Accident      Fatigue  \\\n",
       "count          2000.00000       2000.000000   2000.000000  2000.000000   \n",
       "mean              0.32250          0.489500      0.723000     0.737000   \n",
       "std               0.46755          0.500015      0.447628     0.440373   \n",
       "min               0.00000          0.000000      0.000000     0.000000   \n",
       "25%               0.00000          0.000000      0.000000     0.000000   \n",
       "50%               0.00000          0.000000      1.000000     1.000000   \n",
       "75%               1.00000          1.000000      1.000000     1.000000   \n",
       "max               1.00000          1.000000      1.000000     1.000000   \n",
       "\n",
       "          Allergy     Coughing  Lung_cancer  \n",
       "count  2000.00000  2000.000000  2000.000000  \n",
       "mean      0.34300     0.700500     0.721500  \n",
       "std       0.47483     0.458154     0.448373  \n",
       "min       0.00000     0.000000     0.000000  \n",
       "25%       0.00000     0.000000     0.000000  \n",
       "50%       0.00000     1.000000     1.000000  \n",
       "75%       1.00000     1.000000     1.000000  \n",
       "max       1.00000     1.000000     1.000000  "
      ]
     },
     "execution_count": 3,
     "metadata": {},
     "output_type": "execute_result"
    }
   ],
   "source": [
    "cancer.describe()"
   ]
  },
  {
   "cell_type": "code",
   "execution_count": 4,
   "metadata": {},
   "outputs": [],
   "source": [
    "import seaborn as sns\n",
    "import matplotlib.pyplot as plt\n",
    "sns.set(style=\"ticks\", color_codes=True)"
   ]
  },
  {
   "cell_type": "code",
   "execution_count": 8,
   "metadata": {},
   "outputs": [
    {
     "data": {
      "image/png": "[encoded data removed]",
      "text/plain": [
       "<Figure size 432x288 with 1 Axes>"
      ]
     },
     "metadata": {},
     "output_type": "display_data"
    }
   ],
   "source": [
    "sns.pointplot(x=\"Smoking\", y=\"Lung_cancer\", data=cancer);"
   ]
  },
  {
   "cell_type": "code",
   "execution_count": 9,
   "metadata": {},
   "outputs": [
    {
     "data": {
      "image/png": "[encoded data removed]",
      "text/plain": [
       "<Figure size 432x288 with 1 Axes>"
      ]
     },
     "metadata": {},
     "output_type": "display_data"
    }
   ],
   "source": [
    "sns.pointplot(x=\"Coughing\", y=\"Lung_cancer\", data=cancer);"
   ]
  },
  {
   "cell_type": "code",
   "execution_count": 10,
   "metadata": {},
   "outputs": [
    {
     "data": {
      "image/png": "[encoded data removed]",
      "text/plain": [
       "<Figure size 432x288 with 1 Axes>"
      ]
     },
     "metadata": {},
     "output_type": "display_data"
    }
   ],
   "source": [
    "sns.barplot(x=\"Attention_Disorder\", y=\"Lung_cancer\", data=cancer);"
   ]
  },
  {
   "cell_type": "code",
   "execution_count": 11,
   "metadata": {},
   "outputs": [
    {
     "data": {
      "image/png": "[encoded data removed]",
      "text/plain": [
       "<Figure size 432x288 with 1 Axes>"
      ]
     },
     "metadata": {},
     "output_type": "display_data"
    }
   ],
   "source": [
    "sns.barplot(x=\"Born_an_Even_Day\", y=\"Lung_cancer\", data=cancer);"
   ]
  },
  {
   "cell_type": "code",
   "execution_count": 12,
   "metadata": {},
   "outputs": [
    {
     "data": {
      "image/png": "[encoded data removed]",
      "text/plain": [
       "<Figure size 432x288 with 1 Axes>"
      ]
     },
     "metadata": {},
     "output_type": "display_data"
    }
   ],
   "source": [
    "sns.barplot(x=\"Genetics\", y=\"Lung_cancer\", data=cancer);"
   ]
  },
  {
   "cell_type": "code",
   "execution_count": 13,
   "metadata": {},
   "outputs": [],
   "source": [
    "import numpy as np"
   ]
  },
  {
   "cell_type": "code",
   "execution_count": 14,
   "metadata": {},
   "outputs": [],
   "source": [
    "X_features=cancer.loc[:,['Smoking','Coughing']]"
   ]
  },
  {
   "cell_type": "code",
   "execution_count": 15,
   "metadata": {},
   "outputs": [],
   "source": [
    "y_label=cancer['Lung_cancer'].values"
   ]
  },
  {
   "cell_type": "code",
   "execution_count": 16,
   "metadata": {},
   "outputs": [
    {
     "data": {
      "text/plain": [
       "array([0, 1, 1, ..., 1, 1, 1], dtype=int64)"
      ]
     },
     "execution_count": 16,
     "metadata": {},
     "output_type": "execute_result"
    }
   ],
   "source": [
    "y_label"
   ]
  },
  {
   "cell_type": "code",
   "execution_count": 17,
   "metadata": {},
   "outputs": [],
   "source": [
    "from sklearn.model_selection import train_test_split\n",
    "X_train, X_test, y_train, y_test = train_test_split(X_features, y_label, test_size=0.3)"
   ]
  },
  {
   "cell_type": "code",
   "execution_count": 18,
   "metadata": {},
   "outputs": [],
   "source": [
    "from sklearn.ensemble import GradientBoostingClassifier\n",
    "from sklearn.ensemble import ExtraTreesClassifier\n",
    "from sklearn.ensemble import RandomForestClassifier\n",
    "\n",
    "from sklearn.metrics import classification_report\n",
    "from sklearn.model_selection import learning_curve\n",
    "from sklearn.linear_model import LinearRegression\n",
    "from sklearn.metrics import confusion_matrix"
   ]
  },
  {
   "cell_type": "code",
   "execution_count": 19,
   "metadata": {},
   "outputs": [],
   "source": [
    "clf = ExtraTreesClassifier(n_estimators=10000, max_depth=12, random_state=42)"
   ]
  },
  {
   "cell_type": "code",
   "execution_count": 20,
   "metadata": {},
   "outputs": [],
   "source": [
    "clf = clf.fit(X_train, y_train)"
   ]
  },
  {
   "cell_type": "code",
   "execution_count": 21,
   "metadata": {},
   "outputs": [
    {
     "data": {
      "text/plain": [
       "0.8216666666666667"
      ]
     },
     "execution_count": 21,
     "metadata": {},
     "output_type": "execute_result"
    }
   ],
   "source": [
    "clf.score(X_test, y_test)"
   ]
  },
  {
   "cell_type": "code",
   "execution_count": 22,
   "metadata": {},
   "outputs": [
    {
     "name": "stdout",
     "output_type": "stream",
     "text": [
      "[0.44989562 0.55010438]\n"
     ]
    }
   ],
   "source": [
    "print(clf.feature_importances_)"
   ]
  },
  {
   "cell_type": "code",
   "execution_count": 23,
   "metadata": {},
   "outputs": [],
   "source": [
    "predictions = clf.predict(X_test)"
   ]
  },
  {
   "cell_type": "code",
   "execution_count": 24,
   "metadata": {},
   "outputs": [
    {
     "name": "stdout",
     "output_type": "stream",
     "text": [
      "             precision    recall  f1-score   support\n",
      "\n",
      "          0       0.85      0.43      0.57       165\n",
      "          1       0.82      0.97      0.89       435\n",
      "\n",
      "avg / total       0.83      0.82      0.80       600\n",
      "\n"
     ]
    }
   ],
   "source": [
    "print(classification_report(y_test, predictions))"
   ]
  },
  {
   "cell_type": "code",
   "execution_count": 25,
   "metadata": {},
   "outputs": [],
   "source": [
    "def plot_learning_curve(estimator, title, X, y, ylim=None, cv=None,\n",
    "                        n_jobs=1, train_sizes=np.linspace(.1, 1.0, 5)):\n",
    "    plt.figure()\n",
    "    plt.title(title)\n",
    "    if ylim is not None:\n",
    "        plt.ylim(*ylim)\n",
    "    plt.xlabel(\"Training examples\")\n",
    "    plt.ylabel(\"Score\")\n",
    "    train_sizes, train_scores, test_scores = learning_curve(\n",
    "        estimator, X, y, cv=cv, n_jobs=n_jobs, train_sizes=train_sizes)\n",
    "    train_scores_mean = np.mean(train_scores, axis=1)\n",
    "    train_scores_std = np.std(train_scores, axis=1)\n",
    "    test_scores_mean = np.mean(test_scores, axis=1)\n",
    "    test_scores_std = np.std(test_scores, axis=1)\n",
    "    plt.grid()\n",
    "\n",
    "    plt.fill_between(train_sizes, train_scores_mean - train_scores_std,\n",
    "                     train_scores_mean + train_scores_std, alpha=0.1,\n",
    "                     color=\"r\")\n",
    "    plt.fill_between(train_sizes, test_scores_mean - test_scores_std,\n",
    "                     test_scores_mean + test_scores_std, alpha=0.1, color=\"g\")\n",
    "    plt.plot(train_sizes, train_scores_mean, 'o-', color=\"r\",\n",
    "             label=\"Training score\")\n",
    "    plt.plot(train_sizes, test_scores_mean, 'o-', color=\"g\",\n",
    "             label=\"Cross-validation score\")\n",
    "\n",
    "    plt.legend(loc=\"best\")\n",
    "    return plt"
   ]
  },
  {
   "cell_type": "code",
   "execution_count": 26,
   "metadata": {},
   "outputs": [
    {
     "data": {
      "image/png": "[encoded data removed]",
      "text/plain": [
       "<Figure size 432x288 with 1 Axes>"
      ]
     },
     "metadata": {},
     "output_type": "display_data"
    }
   ],
   "source": [
    "title = 'Learning Curves (Random Forest)'\n",
    "estimator = clf\n",
    "plot_learning_curve(estimator, title, X_train, y_train)\n",
    "plt.show()"
   ]
  },
  {
   "cell_type": "code",
   "execution_count": 27,
   "metadata": {},
   "outputs": [
    {
     "data": {
      "text/plain": [
       "{'bootstrap': False,\n",
       " 'class_weight': None,\n",
       " 'criterion': 'gini',\n",
       " 'max_depth': 12,\n",
       " 'max_features': 'auto',\n",
       " 'max_leaf_nodes': None,\n",
       " 'min_impurity_decrease': 0.0,\n",
       " 'min_impurity_split': None,\n",
       " 'min_samples_leaf': 1,\n",
       " 'min_samples_split': 2,\n",
       " 'min_weight_fraction_leaf': 0.0,\n",
       " 'n_estimators': 10000,\n",
       " 'n_jobs': 1,\n",
       " 'oob_score': False,\n",
       " 'random_state': 42,\n",
       " 'verbose': 0,\n",
       " 'warm_start': False}"
      ]
     },
     "execution_count": 27,
     "metadata": {},
     "output_type": "execute_result"
    }
   ],
   "source": [
    "clf.get_params()"
   ]
  },
  {
   "cell_type": "code",
   "execution_count": 28,
   "metadata": {},
   "outputs": [
    {
     "data": {
      "text/plain": [
       "array([[ 71,  94],\n",
       "       [ 13, 422]], dtype=int64)"
      ]
     },
     "execution_count": 28,
     "metadata": {},
     "output_type": "execute_result"
    }
   ],
   "source": [
    "\n",
    "confusion_matrix(y_test, predictions)"
   ]
  },
  {
   "cell_type": "code",
   "execution_count": 29,
   "metadata": {},
   "outputs": [],
   "source": [
    "tn, fp, fn, tp = confusion_matrix(y_test, predictions).ravel()"
   ]
  },
  {
   "cell_type": "code",
   "execution_count": 30,
   "metadata": {},
   "outputs": [
    {
     "data": {
      "text/plain": [
       "(71, 94, 13, 422)"
      ]
     },
     "execution_count": 30,
     "metadata": {},
     "output_type": "execute_result"
    }
   ],
   "source": [
    "(tn, fp, fn, tp)"
   ]
  },
  {
   "cell_type": "code",
   "execution_count": 31,
   "metadata": {},
   "outputs": [
    {
     "data": {
      "text/plain": [
       "(1400,)"
      ]
     },
     "execution_count": 31,
     "metadata": {},
     "output_type": "execute_result"
    }
   ],
   "source": [
    "y_train.shape"
   ]
  },
  {
   "cell_type": "code",
   "execution_count": 32,
   "metadata": {},
   "outputs": [
    {
     "name": "stderr",
     "output_type": "stream",
     "text": [
      "F:\\nff\\lib\\site-packages\\h5py\\__init__.py:36: FutureWarning: Conversion of the second argument of issubdtype from `float` to `np.floating` is deprecated. In future, it will be treated as `np.float64 == np.dtype(float).type`.\n",
      "  from ._conv import register_converters as _register_converters\n",
      "Using TensorFlow backend.\n"
     ]
    }
   ],
   "source": [
    "import tensorflow as tf\n",
    "import sys\n",
    "from keras.models import Sequential\n",
    "model = Sequential()\n",
    "from keras.layers import Dense\n",
    "model.add(Dense(units=2000, activation='relu', input_dim=2))\n",
    "model.add(Dense(units=1500, activation='relu'))\n",
    "model.add(Dense(units=1500, activation='relu'))\n",
    "model.add(Dense(units=1500, activation='relu'))\n",
    "model.add(Dense(units=1500, activation='relu'))\n",
    "\n",
    "\n",
    "\n",
    "model.add(Dense(units=1, activation='softmax'))"
   ]
  },
  {
   "cell_type": "code",
   "execution_count": 35,
   "metadata": {},
   "outputs": [],
   "source": [
    "model.compile(loss='mse',\n",
    "              optimizer='rmsprop',\n",
    "              metrics=['accuracy'])"
   ]
  },
  {
   "cell_type": "code",
   "execution_count": 36,
   "metadata": {},
   "outputs": [
    {
     "name": "stdout",
     "output_type": "stream",
     "text": [
      "Epoch 1/20\n",
      "1400/1400 [==============================] - 3s 2ms/step - loss: 0.2800 - acc: 0.7200\n",
      "Epoch 2/20\n",
      "1400/1400 [==============================] - 2s 1ms/step - loss: 0.2800 - acc: 0.7200\n",
      "Epoch 3/20\n",
      "1400/1400 [==============================] - 2s 1ms/step - loss: 0.2800 - acc: 0.7200\n",
      "Epoch 4/20\n",
      "1400/1400 [==============================] - 2s 1ms/step - loss: 0.2800 - acc: 0.7200\n",
      "Epoch 5/20\n",
      "1400/1400 [==============================] - 2s 1ms/step - loss: 0.2800 - acc: 0.7200\n",
      "Epoch 6/20\n",
      "1400/1400 [==============================] - 2s 1ms/step - loss: 0.2800 - acc: 0.7200\n",
      "Epoch 7/20\n",
      "1400/1400 [==============================] - 2s 1ms/step - loss: 0.2800 - acc: 0.7200\n",
      "Epoch 8/20\n",
      "1400/1400 [==============================] - 2s 1ms/step - loss: 0.2800 - acc: 0.7200\n",
      "Epoch 9/20\n",
      "1400/1400 [==============================] - 2s 1ms/step - loss: 0.2800 - acc: 0.7200\n",
      "Epoch 10/20\n",
      "1400/1400 [==============================] - 2s 1ms/step - loss: 0.2800 - acc: 0.7200\n",
      "Epoch 11/20\n",
      "1400/1400 [==============================] - 2s 1ms/step - loss: 0.2800 - acc: 0.7200\n",
      "Epoch 12/20\n",
      "1400/1400 [==============================] - 2s 1ms/step - loss: 0.2800 - acc: 0.7200\n",
      "Epoch 13/20\n",
      "1400/1400 [==============================] - 2s 1ms/step - loss: 0.2800 - acc: 0.7200\n",
      "Epoch 14/20\n",
      "1400/1400 [==============================] - 2s 2ms/step - loss: 0.2800 - acc: 0.7200\n",
      "Epoch 15/20\n",
      "1400/1400 [==============================] - 2s 1ms/step - loss: 0.2800 - acc: 0.7200\n",
      "Epoch 16/20\n",
      "1400/1400 [==============================] - 2s 1ms/step - loss: 0.2800 - acc: 0.7200\n",
      "Epoch 17/20\n",
      "1400/1400 [==============================] - 2s 1ms/step - loss: 0.2800 - acc: 0.7200\n",
      "Epoch 18/20\n",
      "1400/1400 [==============================] - 2s 1ms/step - loss: 0.2800 - acc: 0.7200\n",
      "Epoch 19/20\n",
      "1400/1400 [==============================] - 2s 1ms/step - loss: 0.2800 - acc: 0.7200\n",
      "Epoch 20/20\n",
      "1400/1400 [==============================] - 2s 1ms/step - loss: 0.2800 - acc: 0.7200\n"
     ]
    },
    {
     "data": {
      "text/plain": [
       "<keras.callbacks.History at 0x28a93c6ffd0>"
      ]
     },
     "execution_count": 36,
     "metadata": {},
     "output_type": "execute_result"
    }
   ],
   "source": [
    "model.fit(X_train, y_train, epochs=20, batch_size=1600)"
   ]
  },
  {
   "cell_type": "code",
   "execution_count": 37,
   "metadata": {},
   "outputs": [],
   "source": [
    "predictions1 = model.predict(X_test)"
   ]
  },
  {
   "cell_type": "code",
   "execution_count": 38,
   "metadata": {},
   "outputs": [
    {
     "data": {
      "text/plain": [
       "array([[  0, 165],\n",
       "       [  0, 435]], dtype=int64)"
      ]
     },
     "execution_count": 38,
     "metadata": {},
     "output_type": "execute_result"
    }
   ],
   "source": [
    "confusion_matrix(y_test, predictions1)"
   ]
  },
  {
   "cell_type": "code",
   "execution_count": 39,
   "metadata": {},
   "outputs": [
    {
     "name": "stdout",
     "output_type": "stream",
     "text": [
      "             precision    recall  f1-score   support\n",
      "\n",
      "          0       0.00      0.00      0.00       165\n",
      "          1       0.72      1.00      0.84       435\n",
      "\n",
      "avg / total       0.53      0.72      0.61       600\n",
      "\n"
     ]
    },
    {
     "name": "stderr",
     "output_type": "stream",
     "text": [
      "F:\\nff\\lib\\site-packages\\sklearn\\metrics\\classification.py:1135: UndefinedMetricWarning: Precision and F-score are ill-defined and being set to 0.0 in labels with no predicted samples.\n",
      "  'precision', 'predicted', average, warn_for)\n"
     ]
    }
   ],
   "source": [
    "print(classification_report(y_test, predictions1))"
   ]
  },
  {
   "cell_type": "code",
   "execution_count": 40,
   "metadata": {},
   "outputs": [],
   "source": [
    "tn, fp, fn, tp = confusion_matrix(y_test, predictions).ravel()"
   ]
  },
  {
   "cell_type": "code",
   "execution_count": 41,
   "metadata": {},
   "outputs": [
    {
     "data": {
      "text/plain": [
       "(71, 94, 13, 422)"
      ]
     },
     "execution_count": 41,
     "metadata": {},
     "output_type": "execute_result"
    }
   ],
   "source": [
    "(tn, fp, fn, tp)"
   ]
  },
  {
   "cell_type": "code",
   "execution_count": 42,
   "metadata": {},
   "outputs": [],
   "source": [
    "\n",
    "# Building the LSTM\n",
    "# Importing the Keras libraries and packages\n",
    "\n",
    "from keras.layers import Dense\n",
    "from keras.layers import Input, LSTM,Dropout\n",
    "from keras.models import Model"
   ]
  },
  {
   "cell_type": "code",
   "execution_count": 55,
   "metadata": {},
   "outputs": [
    {
     "name": "stdout",
     "output_type": "stream",
     "text": [
      "_________________________________________________________________\n",
      "Layer (type)                 Output Shape              Param #   \n",
      "=================================================================\n",
      "lstm_4 (LSTM)                (None, 1, 1050)           4422600   \n",
      "_________________________________________________________________\n",
      "flatten_4 (Flatten)          (None, 1050)              0         \n",
      "_________________________________________________________________\n",
      "dense_10 (Dense)             (None, 1)                 1051      \n",
      "=================================================================\n",
      "Total params: 4,423,651\n",
      "Trainable params: 4,423,651\n",
      "Non-trainable params: 0\n",
      "_________________________________________________________________\n"
     ]
    }
   ],
   "source": [
    "from keras.models import Sequential\n",
    "from keras.layers import LSTM, Dense\n",
    "import numpy as np\n",
    "from keras.models import Sequential\n",
    "from keras.layers import LSTM, Dense,Flatten\n",
    "\n",
    "\n",
    "\n",
    "model1=Sequential() # we select a sequential model for our case\n",
    "model1.add(LSTM(1050,return_sequences=True, stateful=False,input_shape=(1, 2)))\n",
    "\n",
    "model1.add(Flatten())\n",
    "model1.add(Dense(1)) # output layer\n",
    "model1.summary()"
   ]
  },
  {
   "cell_type": "code",
   "execution_count": 56,
   "metadata": {},
   "outputs": [],
   "source": [
    "model1.compile(loss='mse',\n",
    "              optimizer='adam',\n",
    "              metrics=['accuracy'])\n"
   ]
  },
  {
   "cell_type": "code",
   "execution_count": 57,
   "metadata": {},
   "outputs": [],
   "source": [
    "#X_train=X_train.values\n",
    "#X_train\n",
    "#X_train = np.reshape(X_train, (X_train.shape[0], 1, X_train.shape[1]))\n",
    "#y_train = np.reshape(y_train, (y_train.shape[0], 1, y_train.shape[1]))\n",
    "\n",
    "#X_test = np.reshape(X_test, (X_test.shape[0], 1, X_test.shape[1]))"
   ]
  },
  {
   "cell_type": "code",
   "execution_count": 58,
   "metadata": {},
   "outputs": [
    {
     "name": "stdout",
     "output_type": "stream",
     "text": [
      "Epoch 1/50\n",
      "1400/1400 [==============================] - 8s 5ms/step - loss: 0.7409 - acc: 0.2800\n",
      "Epoch 2/50\n",
      "1400/1400 [==============================] - 1s 823us/step - loss: 0.6917 - acc: 0.2800\n",
      "Epoch 3/50\n",
      "1400/1400 [==============================] - 1s 828us/step - loss: 0.6445 - acc: 0.2800\n",
      "Epoch 4/50\n",
      "1400/1400 [==============================] - 1s 788us/step - loss: 0.5993 - acc: 0.2800\n",
      "Epoch 5/50\n",
      "1400/1400 [==============================] - 1s 796us/step - loss: 0.5560 - acc: 0.2800\n",
      "Epoch 6/50\n",
      "1400/1400 [==============================] - 1s 822us/step - loss: 0.5145 - acc: 0.2800\n",
      "Epoch 7/50\n",
      "1400/1400 [==============================] - 1s 869us/step - loss: 0.4748 - acc: 0.2800\n",
      "Epoch 8/50\n",
      "1400/1400 [==============================] - 1s 946us/step - loss: 0.4369 - acc: 0.2800\n",
      "Epoch 9/50\n",
      "1400/1400 [==============================] - 1s 950us/step - loss: 0.4007 - acc: 0.2800\n",
      "Epoch 10/50\n",
      "1400/1400 [==============================] - 1s 880us/step - loss: 0.3662 - acc: 0.2800\n",
      "Epoch 11/50\n",
      "1400/1400 [==============================] - 1s 822us/step - loss: 0.3336 - acc: 0.2800\n",
      "Epoch 12/50\n",
      "1400/1400 [==============================] - 1s 815us/step - loss: 0.3029 - acc: 0.2800\n",
      "Epoch 13/50\n",
      "1400/1400 [==============================] - 1s 952us/step - loss: 0.2743 - acc: 0.2800\n",
      "Epoch 14/50\n",
      "1400/1400 [==============================] - 1s 804us/step - loss: 0.2477 - acc: 0.2800\n",
      "Epoch 15/50\n",
      "1400/1400 [==============================] - 1s 871us/step - loss: 0.2235 - acc: 0.7857\n",
      "Epoch 16/50\n",
      "1400/1400 [==============================] - 1s 804us/step - loss: 0.2018 - acc: 0.7857\n",
      "Epoch 17/50\n",
      "1400/1400 [==============================] - 1s 825us/step - loss: 0.1826 - acc: 0.7857\n",
      "Epoch 18/50\n",
      "1400/1400 [==============================] - 1s 792us/step - loss: 0.1661 - acc: 0.7857\n",
      "Epoch 19/50\n",
      "1400/1400 [==============================] - 1s 804us/step - loss: 0.1525 - acc: 0.7857\n",
      "Epoch 20/50\n",
      "1400/1400 [==============================] - 1s 803us/step - loss: 0.1417 - acc: 0.7857\n",
      "Epoch 21/50\n",
      "1400/1400 [==============================] - 1s 797us/step - loss: 0.1338 - acc: 0.8143\n",
      "Epoch 22/50\n",
      "1400/1400 [==============================] - 1s 949us/step - loss: 0.1286 - acc: 0.8143\n",
      "Epoch 23/50\n",
      "1400/1400 [==============================] - 1s 982us/step - loss: 0.1259 - acc: 0.8143\n",
      "Epoch 24/50\n",
      "1400/1400 [==============================] - 1s 926us/step - loss: 0.1254 - acc: 0.8143\n",
      "Epoch 25/50\n",
      "1400/1400 [==============================] - 1s 904us/step - loss: 0.1268 - acc: 0.8143\n",
      "Epoch 26/50\n",
      "1400/1400 [==============================] - 1s 938us/step - loss: 0.1294 - acc: 0.8143\n",
      "Epoch 27/50\n",
      "1400/1400 [==============================] - 1s 915us/step - loss: 0.1328 - acc: 0.8143\n",
      "Epoch 28/50\n",
      "1400/1400 [==============================] - 1s 919us/step - loss: 0.1364 - acc: 0.8143\n",
      "Epoch 29/50\n",
      "1400/1400 [==============================] - 1s 969us/step - loss: 0.1397 - acc: 0.8143\n",
      "Epoch 30/50\n",
      "1400/1400 [==============================] - 1s 966us/step - loss: 0.1422 - acc: 0.8143\n",
      "Epoch 31/50\n",
      "1400/1400 [==============================] - 1s 964us/step - loss: 0.1439 - acc: 0.8143\n",
      "Epoch 32/50\n",
      "1400/1400 [==============================] - 1s 1ms/step - loss: 0.1444 - acc: 0.8143\n",
      "Epoch 33/50\n",
      "1400/1400 [==============================] - 1s 1ms/step - loss: 0.1440 - acc: 0.8143\n",
      "Epoch 34/50\n",
      "1400/1400 [==============================] - 1s 972us/step - loss: 0.1426 - acc: 0.8143\n",
      "Epoch 35/50\n",
      "1400/1400 [==============================] - 1s 906us/step - loss: 0.1407 - acc: 0.8143\n",
      "Epoch 36/50\n",
      "1400/1400 [==============================] - 1s 911us/step - loss: 0.1382 - acc: 0.8143\n",
      "Epoch 37/50\n",
      "1400/1400 [==============================] - 1s 966us/step - loss: 0.1357 - acc: 0.8143\n",
      "Epoch 38/50\n",
      "1400/1400 [==============================] - 1s 922us/step - loss: 0.1331 - acc: 0.8143\n",
      "Epoch 39/50\n",
      "1400/1400 [==============================] - 1s 989us/step - loss: 0.1307 - acc: 0.8143\n",
      "Epoch 40/50\n",
      "1400/1400 [==============================] - 1s 979us/step - loss: 0.1287 - acc: 0.8143\n",
      "Epoch 41/50\n",
      "1400/1400 [==============================] - 2s 1ms/step - loss: 0.1270 - acc: 0.8143\n",
      "Epoch 42/50\n",
      "1400/1400 [==============================] - 1s 996us/step - loss: 0.1258 - acc: 0.8143\n",
      "Epoch 43/50\n",
      "1400/1400 [==============================] - 1s 1ms/step - loss: 0.1250 - acc: 0.8143\n",
      "Epoch 44/50\n",
      "1400/1400 [==============================] - 1s 992us/step - loss: 0.1245 - acc: 0.8143\n",
      "Epoch 45/50\n",
      "1400/1400 [==============================] - 1s 1ms/step - loss: 0.1244 - acc: 0.8143\n",
      "Epoch 46/50\n",
      "1400/1400 [==============================] - 1s 1ms/step - loss: 0.1244 - acc: 0.8143\n",
      "Epoch 47/50\n",
      "1400/1400 [==============================] - 1s 1ms/step - loss: 0.1247 - acc: 0.8143\n",
      "Epoch 48/50\n",
      "1400/1400 [==============================] - 1s 1ms/step - loss: 0.1250 - acc: 0.8143\n",
      "Epoch 49/50\n",
      "1400/1400 [==============================] - 1s 1ms/step - loss: 0.1254 - acc: 0.8143\n",
      "Epoch 50/50\n",
      "1400/1400 [==============================] - 2s 1ms/step - loss: 0.1257 - acc: 0.8143\n"
     ]
    },
    {
     "data": {
      "text/plain": [
       "<keras.callbacks.History at 0x28aa23bbe10>"
      ]
     },
     "execution_count": 58,
     "metadata": {},
     "output_type": "execute_result"
    }
   ],
   "source": [
    "model1.fit(X_train, y_train,epochs=50,batch_size=3000) "
   ]
  },
  {
   "cell_type": "code",
   "execution_count": null,
   "metadata": {},
   "outputs": [],
   "source": []
  },
  {
   "cell_type": "code",
   "execution_count": null,
   "metadata": {},
   "outputs": [],
   "source": []
  },
  {
   "cell_type": "code",
   "execution_count": null,
   "metadata": {},
   "outputs": [],
   "source": []
  },
  {
   "cell_type": "code",
   "execution_count": null,
   "metadata": {},
   "outputs": [],
   "source": []
  },
  {
   "cell_type": "code",
   "execution_count": null,
   "metadata": {},
   "outputs": [],
   "source": []
  },
  {
   "cell_type": "code",
   "execution_count": null,
   "metadata": {},
   "outputs": [],
   "source": []
  },
  {
   "cell_type": "code",
   "execution_count": null,
   "metadata": {},
   "outputs": [],
   "source": []
  }
 ],
 "metadata": {
  "kernelspec": {
   "display_name": "Python 3",
   "language": "python",
   "name": "python3"
  },
  "language_info": {
   "codemirror_mode": {
    "name": "ipython",
    "version": 3
   },
   "file_extension": ".py",
   "mimetype": "text/x-python",
   "name": "python",
   "nbconvert_exporter": "python",
   "pygments_lexer": "ipython3",
   "version": "3.6.5"
  }
 },
 "nbformat": 4,
 "nbformat_minor": 2
}
